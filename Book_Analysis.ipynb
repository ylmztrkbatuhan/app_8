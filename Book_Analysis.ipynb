{
 "cells": [
  {
   "cell_type": "markdown",
   "id": "3bd101b6-08d7-4067-ba3f-e47c6b0c7621",
   "metadata": {},
   "source": [
    "# Load the book\n"
   ]
  },
  {
   "cell_type": "code",
   "execution_count": 12,
   "id": "b8ef0860-2614-4209-a020-a4044884b64f",
   "metadata": {},
   "outputs": [],
   "source": [
    "with open(\"miracle_in_the_andes.txt\", \"r\", encoding=\"utf-8\") as file:\n",
    "    book = file.read()"
   ]
  },
  {
   "cell_type": "code",
   "execution_count": 14,
   "id": "01e58280-d8c0-4df1-9097-3926d13f5c5c",
   "metadata": {},
   "outputs": [
    {
     "data": {
      "text/plain": [
       "str"
      ]
     },
     "execution_count": 14,
     "metadata": {},
     "output_type": "execute_result"
    }
   ],
   "source": [
    "type(book) "
   ]
  },
  {
   "cell_type": "markdown",
   "id": "f697ea35-cab9-4201-b21d-b40405efc975",
   "metadata": {},
   "source": [
    "# How many chapters"
   ]
  },
  {
   "cell_type": "markdown",
   "id": "fe93c11a-77d1-4902-addf-e0598b02bd88",
   "metadata": {},
   "source": [
    "### With string methods"
   ]
  },
  {
   "cell_type": "code",
   "execution_count": 17,
   "id": "0f358931-aeb9-4450-9445-040ed91e9a84",
   "metadata": {},
   "outputs": [
    {
     "data": {
      "text/plain": [
       "11"
      ]
     },
     "execution_count": 17,
     "metadata": {},
     "output_type": "execute_result"
    }
   ],
   "source": [
    "book.count(\"Chapter\")"
   ]
  },
  {
   "cell_type": "markdown",
   "id": "54804865-b3fa-446b-8c9f-f62c4f6daecd",
   "metadata": {},
   "source": [
    "### with regex"
   ]
  },
  {
   "cell_type": "code",
   "execution_count": 19,
   "id": "4d495a48-8551-4384-990e-ad7cfc6216ad",
   "metadata": {},
   "outputs": [],
   "source": [
    "import re\n",
    "\n"
   ]
  },
  {
   "cell_type": "code",
   "execution_count": 23,
   "id": "fd98aba3-f6d7-47ec-8393-519a323a57b7",
   "metadata": {},
   "outputs": [
    {
     "data": {
      "text/plain": [
       "10"
      ]
     },
     "execution_count": 23,
     "metadata": {},
     "output_type": "execute_result"
    }
   ],
   "source": [
    "pattern = re.compile(\"Chapter [0-9]+\")\n",
    "findings = re.findall(pattern,book)\n",
    "len(findings)"
   ]
  },
  {
   "cell_type": "markdown",
   "id": "bd9f6f4d-414c-418c-b6e7-a480344a98c9",
   "metadata": {},
   "source": [
    " # Which are the sentences where \"love\" was used?"
   ]
  },
  {
   "cell_type": "code",
   "execution_count": null,
   "id": "f6f1dab8-ffd5-4420-acf5-963a02c81224",
   "metadata": {},
   "outputs": [],
   "source": []
  }
 ],
 "metadata": {
  "kernelspec": {
   "display_name": "Python 3 (ipykernel)",
   "language": "python",
   "name": "python3"
  },
  "language_info": {
   "codemirror_mode": {
    "name": "ipython",
    "version": 3
   },
   "file_extension": ".py",
   "mimetype": "text/x-python",
   "name": "python",
   "nbconvert_exporter": "python",
   "pygments_lexer": "ipython3",
   "version": "3.11.0"
  }
 },
 "nbformat": 4,
 "nbformat_minor": 5
}
