{
 "cells": [
  {
   "cell_type": "markdown",
   "id": "3bd101b6-08d7-4067-ba3f-e47c6b0c7621",
   "metadata": {},
   "source": [
    "# Load the book\n"
   ]
  },
  {
   "cell_type": "code",
   "execution_count": 9,
   "id": "b8ef0860-2614-4209-a020-a4044884b64f",
   "metadata": {},
   "outputs": [],
   "source": [
    "with open(\"miracle_in_the_andes.txt\", \"r\", encoding=\"utf-8\") as file:\n",
    "    book = file.read()"
   ]
  },
  {
   "cell_type": "code",
   "execution_count": 11,
   "id": "adb97d1c-1a43-4cf2-817d-c584ccf55606",
   "metadata": {},
   "outputs": [
    {
     "data": {
      "text/plain": [
       "str"
      ]
     },
     "execution_count": 11,
     "metadata": {},
     "output_type": "execute_result"
    }
   ],
   "source": [
    "type(book)"
   ]
  },
  {
   "cell_type": "markdown",
   "id": "ae552c26-46d5-47bd-8d89-8d277352b23c",
   "metadata": {},
   "source": [
    "# How many chapters? "
   ]
  },
  {
   "cell_type": "markdown",
   "id": "3635fd69-bdff-4251-86ab-742b39d83d81",
   "metadata": {},
   "source": [
    "# with string methods"
   ]
  },
  {
   "cell_type": "code",
   "execution_count": 20,
   "id": "064a9a13-15d5-400c-88e3-dd1e5f57de5b",
   "metadata": {},
   "outputs": [
    {
     "data": {
      "text/plain": [
       "11"
      ]
     },
     "execution_count": 20,
     "metadata": {},
     "output_type": "execute_result"
    }
   ],
   "source": [
    "book.count(\"Chapter\")"
   ]
  },
  {
   "cell_type": "markdown",
   "id": "7c2a6d87-00c3-43d5-8075-2770426f9886",
   "metadata": {},
   "source": [
    "# With regex"
   ]
  },
  {
   "cell_type": "code",
   "execution_count": 26,
   "id": "1769f413-eba7-4c17-882f-fd71ef122929",
   "metadata": {},
   "outputs": [],
   "source": [
    "import re"
   ]
  },
  {
   "cell_type": "code",
   "execution_count": 33,
   "id": "9c6e10ad-0fef-4116-a030-3389c6a047b5",
   "metadata": {},
   "outputs": [
    {
     "data": {
      "text/plain": [
       "10"
      ]
     },
     "execution_count": 33,
     "metadata": {},
     "output_type": "execute_result"
    }
   ],
   "source": [
    "pattern = re.compile(\"Chapter [0-9]+\") \n",
    "findings = re.findall(pattern , book)\n",
    "len(findings)"
   ]
  }
 ],
 "metadata": {
  "kernelspec": {
   "display_name": "Python 3 (ipykernel)",
   "language": "python",
   "name": "python3"
  },
  "language_info": {
   "codemirror_mode": {
    "name": "ipython",
    "version": 3
   },
   "file_extension": ".py",
   "mimetype": "text/x-python",
   "name": "python",
   "nbconvert_exporter": "python",
   "pygments_lexer": "ipython3",
   "version": "3.11.0"
  }
 },
 "nbformat": 4,
 "nbformat_minor": 5
}
